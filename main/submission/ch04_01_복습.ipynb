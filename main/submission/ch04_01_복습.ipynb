{
  "nbformat": 4,
  "nbformat_minor": 0,
  "metadata": {
    "colab": {
      "provenance": [],
      "authorship_tag": "ABX9TyOQ/6gBsX9nlDd7U7s0luGU",
      "include_colab_link": true
    },
    "kernelspec": {
      "name": "python3",
      "display_name": "Python 3"
    },
    "language_info": {
      "name": "python"
    }
  },
  "cells": [
    {
      "cell_type": "markdown",
      "metadata": {
        "id": "view-in-github",
        "colab_type": "text"
      },
      "source": [
        "<a href=\"https://colab.research.google.com/github/zihvvan/Python/blob/main/main/submission/ch04_01_%EB%B3%B5%EC%8A%B5.ipynb\" target=\"_parent\"><img src=\"https://colab.research.google.com/assets/colab-badge.svg\" alt=\"Open In Colab\"/></a>"
      ]
    },
    {
      "cell_type": "code",
      "execution_count": null,
      "metadata": {
        "id": "yD_l4GeVDpZr"
      },
      "outputs": [],
      "source": [
        "# 패키지나 모듈을 불로오는 키워드 import\n",
        "# 패키지와 모듈 안에 있는 것을 부분적으로 불러오기위해서는 from (패캐지 또는 모듈명) import 불러오려는 모듈, 험수, 변수명 ...\n",
        "# 불러올 때, 다른 이름을 지정해주고 싶으면 as : import ... as ... / from ... import ... as ...\n",
        "# 특정 모듈이나 패키지 안에 있는 모든 항목들을 불러오려면 from ... import *.\n",
        "# !pip install ... / !pip install /// -q (--quiet) / !pip uninstall ... / !pip install ... -u\n",
        "# !pip list\n",
        "!pip list "
      ]
    },
    {
      "cell_type": "code",
      "source": [
        "# https://pypi.org/\n",
        "!pip install gTTS"
      ],
      "metadata": {
        "colab": {
          "base_uri": "https://localhost:8080/"
        },
        "id": "vqtrSbUoEpUr",
        "outputId": "a0ddff79-6543-43e4-d030-2a974584da2a"
      },
      "execution_count": 2,
      "outputs": [
        {
          "output_type": "stream",
          "name": "stdout",
          "text": [
            "Looking in indexes: https://pypi.org/simple, https://us-python.pkg.dev/colab-wheels/public/simple/\n",
            "Collecting gTTS\n",
            "  Downloading gTTS-2.3.1-py3-none-any.whl (28 kB)\n",
            "Collecting requests<3,>=2.27\n",
            "  Downloading requests-2.28.2-py3-none-any.whl (62 kB)\n",
            "\u001b[2K     \u001b[90m━━━━━━━━━━━━━━━━━━━━━━━━━━━━━━━━━━━━━━━━\u001b[0m \u001b[32m62.8/62.8 KB\u001b[0m \u001b[31m5.4 MB/s\u001b[0m eta \u001b[36m0:00:00\u001b[0m\n",
            "\u001b[?25hRequirement already satisfied: click<8.2,>=7.1 in /usr/local/lib/python3.8/dist-packages (from gTTS) (8.1.3)\n",
            "Requirement already satisfied: urllib3<1.27,>=1.21.1 in /usr/local/lib/python3.8/dist-packages (from requests<3,>=2.27->gTTS) (1.26.14)\n",
            "Requirement already satisfied: charset-normalizer<4,>=2 in /usr/local/lib/python3.8/dist-packages (from requests<3,>=2.27->gTTS) (3.0.1)\n",
            "Requirement already satisfied: idna<4,>=2.5 in /usr/local/lib/python3.8/dist-packages (from requests<3,>=2.27->gTTS) (2.10)\n",
            "Requirement already satisfied: certifi>=2017.4.17 in /usr/local/lib/python3.8/dist-packages (from requests<3,>=2.27->gTTS) (2022.12.7)\n",
            "Installing collected packages: requests, gTTS\n",
            "  Attempting uninstall: requests\n",
            "    Found existing installation: requests 2.25.1\n",
            "    Uninstalling requests-2.25.1:\n",
            "      Successfully uninstalled requests-2.25.1\n",
            "Successfully installed gTTS-2.3.1 requests-2.28.2\n"
          ]
        }
      ]
    },
    {
      "cell_type": "code",
      "source": [
        "# from 패키지명 import 클래스 as 변수명\n",
        "from gtts import gTTS as gs\n",
        "\n",
        "# tts = gTTS('hello')\n",
        "tts = gs('hello', lang='en')\n",
        "tts.save('hello.mp3')"
      ],
      "metadata": {
        "id": "Owzxw9HyFCtc"
      },
      "execution_count": 3,
      "outputs": []
    },
    {
      "cell_type": "code",
      "source": [
        "tts = gs('안녕', lang='ko')\n",
        "tts.save('hello_kr.mp3')"
      ],
      "metadata": {
        "id": "RHEKEnzbFmB4"
      },
      "execution_count": 4,
      "outputs": []
    },
    {
      "cell_type": "code",
      "source": [
        "from IPython.display import Audio\n",
        "\n",
        "# audio = Audio(\"hello_kr.mp3\")\n",
        "audio = Audio(\"hello_kr.mp3\", autoplay=True)\n",
        "display(audio)"
      ],
      "metadata": {
        "colab": {
          "base_uri": "https://localhost:8080/",
          "height": 74
        },
        "id": "7iYh3GkYF43s",
        "outputId": "274ef459-02f0-4da7-890b-d52a29f1ee75"
      },
      "execution_count": 6,
      "outputs": [
        {
          "output_type": "display_data",
          "data": {
            "text/plain": [
              "<IPython.lib.display.Audio object>"
            ],
            "text/html": [
              "\n",
              "                <audio  controls=\"controls\" autoplay=\"autoplay\">\n",
              "                    <source src=\"data:audio/mpeg;base64,//NExAAPMJYkAUYQALu7vtEEyZMmTJkyZMAAAAAAgQIRD/IQgsHwfB8P///u/////+CAIAgCBnLg+CAIAgCAJg+D4Pg+CAIAgGH/WPD5YagL/5fNr/S//5+MMyscliRH//NExBYWmdKUAZhoAJgrgK6Cd+CtiVuiBQwGoPo5fvqm5u7t/TqNGPTYvkwu/0FM+ggfTTZJD/oIOt/Rc3MFwa/9ZoEl5cQf95e45gY4sSgRKhO20NcziYhqkKclUXY7//NExA4WKXrAAY94AE9z+PdPmIbguavSq6BaiZE9E/F2KE/DnUExPR6DnqGaIsOhU03u2nG3tV3NBhV1ne7f1tClxBkgvYU3//zv4z64xq2YMKsX+rlgDTgKwsKoaAUJ//NExAgSySLUAYx4AIkJ7qhWYiGJYrMxSd6XNBQItVkgRFFMeEdKIyMeTIl0cXLL/FtXiap77jYtvNoltb1ncSm8WtSTDggXGQQUHwIKE/QqjzFGT0qT2jLMWVVp5Wp1//NExA8SIR7UAY9gAA0/D9RRynSiSsMhKO1kaoCxfZTE4cnVxTKrruNWN6weyUtl36urcy9pZ2tLXci841ImGiFIcEaDfppzCJ44R1VKniR8Wxg2BOqGXVXfHpmctLtd//NExBkROT68AZh4ADJuaBFr2RXqw+41MQ9a1BHQ6eubzNp7+auf4T1nh2eavLqv+a//GfelZrQFZCYDKxrZ1mMhqYghZhsDmDDiYDHxhUAGIiyW1MCCNSUFOW/qDLQk//NExCccQRZwAdxgAP6B4ukfOr7llhRh4B5ZWMwR+8YkmN0lNFSAyddcr0e24v8U1BiYaoJx0eOsNeDqjwMgqLgJqqQEokHG32drFMZ4eOOWLjUnNo7qaYmGfWbBwmZg//NExAkRYLp8AN5STChRJmAEZsQMjiZOjJEBKF9Wj9NzN0m3ttGPAqTrBVUDJOq7yxWH3FdkxSjiL4uGgERPh89/+qu73f+T/qWRMhPwFlqDsgRIxfQ1IjbAWJV+sDZ1//NExBYRMLZ8AN5eTHYjL2ZSWstKQbJpBTkQmUJqS1dazNndKvKQqbiAcHRyDRxmLhkh92rbbXSv/9pllLsHhk8CCFwCDNZRqZQogKNDCR1FGf2zeVLun5hoHBXiZk6E//NExCQRAL6AAN4YTBP1qjpm1+Z/K2s41BUBt+pYBd6rviqVut7e34QmPi2OhLti+mjGVwdvpzHN0c2fjzIqsFSTcKtvXSXI3cAUXhpwgGkEdqeJMo6Gh3KVtBBwRe+X//NExDMRKLaMANYKTB4PlBhyUn0bv/+LH/L2d/7covpDyZmjAyncXXgRHiZfd55icxBog0uwMMVsbcNX83x/luMqwyI+kI2PGePe+2+MDpnIZn+dkMTIbDH2HHN///0v//NExEERUV6oAMIMlP1//uqq1NgSdtRNcnocGLVAYbCAJzZP4C/WZpnr+1/WfNvPPFCRtQ+QAANcnJ6oDwYjEuT3g6NiCRC/GvT1gIEzQSYgc9XlAS0rOiUYliE6kkgN//NExE4QQVq0AMJMlQyZJR7MCwUamnpO9lvcG9ZPD1lyyxvFIeFU8fT0cWW57wUfgco4akH+Dk+QXrVnY036z17PYT5h7JOtpdW8AGW9UweaGe6U5cridIxgOd+5ubep//NExGASSWK0AMPSlKAyOb9ioZqGD1sJ2yePkrnXRxdbPeatSO9upDlFTZ1izupOzNLb87OV5urcUNAeqmCA7445G0ZMIFFxFVEN1AHEVEgaXbV+s8MMhkJqSYOQIwVj//NExGkRSUbAAU9gATCZiXC6EUEYGGqQEgNgukcU8NTDePokBjjOESFAixKX2+clBRwh2gJxdR3jr2VzhSLGeMaafz7jNTAq3POqfL+DFCzunl6yKB6ukLEquCexTQPI//NExHYaMXK0AZh4AO8H8rhdoRnIXg4HM2VFBIIpgbAmIOkL4kaGyaSSbKXW1qt3SUpqNFltdFBczNU2dKp3NlpH0zJ4UuqJsrM4qEdi0GDCYUoR+9O1fz+Jy2E3nnZQ//NExGARsVa4Ac9oAevccRr7DyYDCEIx3gLjSgXQtce6KvbyyL28Vzxc13d1qZTTHV+ezWUV81lTp1pt1SrNBUwHHAGnLEg5B4xqotoaYcY5AYQEGDjRiCoXEI9LomDr//NExGwSCV6sAVhYAeRIIzrzTMDpjgkEoVNQackMW6b6WzSFr/zFxTmRct09nOMzUrqTUzbt567urKp+mnoOv0lPS1H8sUmFvcaitmGpVFpDS3JXMSKHMbNJVlP/TYXs//NExHYhkaKUAZrIALv///9+we1/9npX9D/63fpVReAL0bwUhYsOjZTDgsapklTDzxOUwtfMuDzBT0DFrRTHBMFChjw6NB4oQDScAEY00YMHFE6kfC2xlA5SQFtJo9Vt//NExEIhuYp4Adt4ANts2x1zZteacNN3TEZsV1VE8ZWSG9W21ya22AzyualkULy0tWLS6u3LcVAq04WFDYqdiwp/Pdyu+EJtLf//VQk6ok1jEnBCsAGhUHz4pEkQYEJA//NExA4UKNqEANPGcCZAuyURAgaDkLGLiMRnPgDCDdAfIZJ2iSoRZgNFgbYrvzCmTAxsSx4WOjGGdAdSSExsClXGmqAx4JHgqlJGh3///0VuIpQKTRj+ICcmYDEyhNoi//NExBASmR58ANPGcTYCMKMhh8N9aQB+EvEDTAV+DGbIq7P+ylW2mJjVNHhEoc5sROeSEwiOHBBCy83ODS9nsVpX5294BP+qa0OcBp8BPIZXC5tPEKnJsiLs1C4pWjNY//NExBgRiQKAANPGcIX5moc+GeYMBpLwdmT9iqSV7veRQhmenUB8IEQlniwWDbQNCAqTbyTxKP7iY8lVVgAOYuIaxkLlzCF0YiqPLsA4KqMxAk+FpGn8WZYcmUSFQlmc//NExCQR+RJ8ANPGcKdUVdVWobFnT2K1BGTAyWUh8Nps8dXWFrAwNHePQKhFLZFTVC4Zj44Y8Dmv0QGjiwFBxMsKuluSyX9KpZadUoYdIRccTJjkfVCYxu79jvHqZXMl//NExC8RQOJsANsGcEdaFMLRQOBwKD0GQHYefY/lSL7EvWgKJnZyeUoGpW0g8BQg4JsLEp+JE74VJKOydq5OcASHsKWQmH45p9ccjuEkv5isrfOHJPTHbLPP7z3+mgpI//NExD0RuSZUAMsMcAroTqiJ4SfWeys7QbIOUQ1AkGRyec471WqSkoOARKCVc49FzkpajnK3owEOXFhkxgIkwbBU7pa/LKPeKlaCITkaz2p6u7UFHoYMLEgqlaWs/Onv//NExEkSeNn4AHmGcCQIaNIt5wJdwhtS5GSiMwfZREJYsRsPEsstQy/a2GRqyggThkBBIXI4qLINDxT14wXYkBCwqZ/FRZBoeKf/ULCpmpvFRaoV8FWSccIzhxaDQ+IB//NExFIREL18AHpGTKCEoCETn1g+4oCEuf/ECnCcocIFz9QYwQwfwQwxWfKThfKOqdWH8Mf8QLPidQYLjQ/g5lIhGlpH4S5MVrW9BbSJClzTXTbV0RFqop4+YgCqg4OG//NExGAQMCnwAHiGAARaFhOecoHlrINdPISYYBUMYhtPf43cP0Ks6KzVrDQtjvVjVJNiqE0ATJmphS5h0PvzMu6uZVDKWrNRtJqLUjWxxMsFaxowUiQaJHiJ1iWiVpKH//NExHIRqI34AMJGTGHZ2dv2W3HXnndX63Kcr/6h+r/yynggxtEIQXCwYB8ThYMCcuoaHwQKBEPiAoNCwYB8TgQMA+IwIsccBAufDHy44MA+Xe6cBAuODBTz4Y8o4/5R//NExH4P2K3sAMJGTMT9fyYnHHOXUGI1SOCFmQKxNhCpFLE91WZwXA8PxJ7Y30zWD6CLFKILSji6K23ygYVNm1hyS8KoLyHEl0yYgI7YKLsm/cUyhYPB7BHKhzxa0LZk//NExJER8CncABhGAA+ow6PiELVpU3zC06yZWVeTPz3sdNmZB4crC6w6U88OmY91F9NlWzZsNd3GVfq97Z5q3XZgSnStDJ4ygNVzl8/FYaoKiqXBRFXLB1qVW3BgSeiW//NExJwgst3oAMJMuTha4CpMbhMB4I0mMaJOeeY2gTll16j9+afce1x6Tq9YG4lpy9AqawUQMQJQCZ0FfBSwMbBRJoKZQJwEQSt+FLLZnKCvgEDIMOWJaWKGY7hVXDOW//NExGwgUl3oAMMGuV+GFIvYy6yDHdhEioFw6mXBbQyatioIaQAuZ4JZUq5hkpvXlcNjFZNRtxMQjRwnMolUhYkCDOjjMsrk1I1a0msMmC0MgIW/0BUWNPZ/gUUNBUiA//NExD0SoQG8AHpGcIVImQkLmW///1t+wyEqTEFNRTMuMTAwqqqqqqqqqqqqqqqqqqqqqqqqqqqqqqqqqqqqqqqqqqqqqqqqqqqqqqqqqqqqqqqqqqqqqqqqqqqqqqqq\" type=\"audio/mpeg\" />\n",
              "                    Your browser does not support the audio element.\n",
              "                </audio>\n",
              "              "
            ]
          },
          "metadata": {}
        }
      ]
    },
    {
      "cell_type": "code",
      "source": [
        "from gtts import gTTS\n",
        "from IPython.display import Audio\n",
        "from random import choice, randint\n",
        "from time import sleep\n",
        "\n",
        "def chat():\n",
        "    says = [\"목 아프다\", \"배고프다\", \"졸리다\"]\n",
        "    c = choice(says)\n",
        "    tts = gTTS(c, lang='ko')\n",
        "    filename = 'chat.mp3'\n",
        "    tts.save(filename)\n",
        "    audio = Audio(filename, autoplay=True)\n",
        "    display(audio)\n",
        "\n",
        "for i in range(randint(1, 5)):\n",
        "    sleep(2)\n",
        "    chat()\n"
      ],
      "metadata": {
        "colab": {
          "base_uri": "https://localhost:8080/",
          "height": 188
        },
        "id": "EH7n4oEeGNPg",
        "outputId": "119605a2-58f0-4d5f-a199-f51d8bf9cbb8"
      },
      "execution_count": 8,
      "outputs": [
        {
          "output_type": "display_data",
          "data": {
            "text/plain": [
              "<IPython.lib.display.Audio object>"
            ],
            "text/html": [
              "\n",
              "                <audio  controls=\"controls\" autoplay=\"autoplay\">\n",
              "                    <source src=\"data:audio/mpeg;base64,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\" type=\"audio/mpeg\" />\n",
              "                    Your browser does not support the audio element.\n",
              "                </audio>\n",
              "              "
            ]
          },
          "metadata": {}
        },
        {
          "output_type": "display_data",
          "data": {
            "text/plain": [
              "<IPython.lib.display.Audio object>"
            ],
            "text/html": [
              "\n",
              "                <audio  controls=\"controls\" autoplay=\"autoplay\">\n",
              "                    <source src=\"data:audio/mpeg;base64,//NExAAOWxn8AUIQAAAAEMpznOT+Q5/5CN+///3/yf53/t//////////////qc5CEIQhAggDAwMDAwMDAwMAAAAAAAAAEMqiqmunokNnvgAkrW86bUONM7+s5uf+4B4s//NExBkXmyY4AZs4AD/c/FpcaDn0zlKi8HY8Q/rMMhhxwux//oisx1jz3/9Tb80cjioiFDP/0P+x9z1RXdqOVmUzUd7ftOMY+5ezL0SfV2dnLrUkT3b3/v+f//////X7//NExA0UOyq0AYI4AH9kY2THygtiIEJw4v+e+YYjOFRLEBxqECLf/zNp57HuQRmc8dPKoIhMt//57sYzmMXMY9Gx0aDIljQVCWMCWGxIEsbIJfI0X9f+Xp//v/P///58//NExA8U+xrAAcEYAO+WXPcaC0EjuLqmFgYnBcLd2MsFqrSxinkeFYokY6h2P8effPcojMJranTBvih0rKbwBmGauQIlChkCOzsoKjQYEjEH07gAVysM7fM+Znm1QUFw//NExA4VSk64ABlKuYChXZ8pCd0VU23UuVlRDGRNjIJDRRAGcRFBw0rILKyFobdTNcu3UyOn5lLy3ZWmNKXezuUVlaxlO7MVhVe/m01jZXCsjoT9KqWbGIj8KWfdfguu//NExAsU+NqkAMpGcMIQll+4YtRmQADChdpAwIAxqYJiklM6TO1nHtw9AgQc0IWYkEXYmYMUcNhoXGjn2KDR0s938sW+SnkFmOZrcxqehIv3lleBj1Ws7IVJDhzNMJ+R//NExAoUAU6cAN4QlArj7cBrKoG8tCxzm0+8slE6ewsOUFiDcivTH5mGrXZRl+9fu5lqWa+UVsiQiYQw+bF14r/7nZcitB1Yr5GM/////2r/4oqzAAXVnzbK7fQVopqs//NExA0SmUKcANPacOQygLIp+chtkyiL7JhPkHCPHIdwAbF9YB5DThJIol8d5QmZGW486hluTAiiox7JoZ1vvmulq5+X////r/0qnX2Chk+w5ZtGYFw9jYzCqHcgVfNr//NExBUR+PKgANPecHU1ddJ/adZ6KY863C+VWgUY8J1gOiiRODFS1zITx5ELm4Ttrn8qjXfaKvI3e/////2/0a0GiI4dJC0yVGUd1JcFRacMHjSNs4SePjyIbY3IrFFn//NExCAQuPKgANNecAnqt0pBGYsMDg6yOiJ0LdSDZSul+T4Y/tc5HPT7Vyv///8sqQyFzB+R6voBNWuXHFAQFlcgFZbyCdeb1BV8lzVCfeCVHovLOzALbWRRweX1xjEx//NExDASmT6cANLecDxo3o3WIG/SNq1vmnxne97+dUvMID3///1yVbz6DJc5J5p68TNE6e6mU51OBq6h59e47nqCuRW82NMPwztg7mvNujpxh7m90nj/HLH2511MdMZJ//NExDgSYUacANIWcNPuOn7bu5t6ako68gKirDX5VcbTDTkBG9fAcRKQzYRcvdnP4PvEZ2V2V3P/L3/Oyk9IIMTHxXQg7mAIDJv5g54/S4EWDJkIBb7fff1sbr2P/QrV//NExEEP2U6oANGGlAkjBBeUPucetRrkBJyemN/JRcn64rQf0c9vz7x3OJYITpEUTHz0nJlNYdEtY2Gf2ZEEKjMiLMICcMOGlXf//7zN5VQ+D2pcMiqrSJuaitmhi3+I//NExFQQaUqsAMLMlGbK8uul3E1TW//BA0VJHg6GAHhgTCuK8O2srjvHOqV5HMw0lk/hSRuB8XUPKqBP///3LcawiEFqnjEM91sYBZZdcfXv6cw73WyeXVTrfVx8QxqV//NExGURMVawAMoSlJuakAVigKjM8371tWHPydgbcRWQD1ZPWp8SoyTr2TBp6g7///qs///6VaaUCsiumjmEQ5YVTRmirSIGz16XDrLbxbtFcLx8S4wefVmBYPhQJkcZ//NExHMSUVqsAMrYlMqS3Ib8q3QXMJTgtHynpZ8zmUuWeR///rUJbP//2K0qiaWgUfHgQDGdyohHOYlQFa6dLLmI2aQ+Yb12299bVv1tpes9Oyyw/Q+KxiOIUiiSTtpx//NExHwSGVKoAMoSlGxqLo5NUSuK1//+7Jc4FRwJLV///nbeuo8R3/1fsIUzSQ0/gz6A3ZohVGYAGIWmcbhj2gWGUxfKOxXdA/0t5jh3Hn/2r/ebnxti5NDQeYAclqYq//NExIYUaVKQAMsMlNGLFGGgw9kip5IiOee/TV/+V/PHaqRb0HCfeAImY0A4sosx+ENcSL58Ti8eaN1FwuBPAvwOLxg7x7BPTUl/rNzTIAShKh6Ew/cwNFIMTBg2IIjY//NExIcS+OZcAVowAMj+ybtQkiSDjlJIxJ//TdBBmsyBoPQ0MSsexAHb/+nL5vpunx2G5YXhg1kAbyePxAJH//101MggzWZPkucLhHMTZMxJEyKxhR3E+odVaCUpgioi//NExI4hYyqIAZhoAFJhCDB6qShhjYkCMTCYnLhYkzYmoJfQ/P5Pe8UoZkt9lsry5Pv5CqNeTMWmOsBRTFSpjbf+OyOcvDyWDNybeE1Kudvv0uMqvffZS2KA7cVkX//c//NExFsg0XqkAZrAALv29f+WFimtTkOv9KZTtQHVX1H+fGDElRj7QCJSHVvSdsUv9Jz6AMSqTEDtlVglBXaMRcAkRKBAhDZmI2BY6TjYBQoOK1l5mmNusO68QhiigB62//NExCocyXK0AZjAAJ5f9iGLSVjuBDwVEp21J3IhMy+CcYu/cba6/OVBejccllJK7cUhyUT+WMcf6LU8zLbdJ8slc/nuno4YlFFT95hSdrjncPnNX/TVLMxVAQ8wh+Lx//NExAkScP7QAY9gAX1QIYyLRmFjM8sarTI9PmJTLiIGBMOISSNFjQc3lZbHMgqD7c+qzq/Rzr3/1rU5ekL9SCCHrpYpRWUiooHv7//tJWQsYI5BZBPzSPlVEiR5OxcR//NExBIWkW7EAY94AOJdwTCiLYwqZqbC9IaGmriwOKdKKKbpKC3xUcSAuC29rn6dPqT1eapm+LSwvbMRzngwqv7w7/OP/Cra1YMCHm9KbgBkJ9BvhhVDjAIGN1UhzMKo//NExAoVKXbIAY94ADRUylL6eBBZxPS/JQ5D6eTKU5SIOMyFhZYWRXGygGFOEjVSqm+Mae1t6xd2rv6i21FtaW1oNqx55o/1j4trFs4tLauL5xqYIe3g4iMENQstSYl4//NExAgUcXbIAY94AMmghTOiohbCgXRfjSHeP9V2cD9RK7MlFP0PScRaO40qPDiPFliU9NZ3nWolvbN95zef1rbwrZpWSHSmt4xv4tnwcfNK4j7P9PhKHIN9RIoe4sLk//NExAkTmSbEAY9gAHG1pRDY6SJIsJ45ThG4IFgbLScAkRS4IAwcccEYfnxxIgue2+/S032bWrlvpNNf2bX+0zacjiD4fAZ8FypYiFAeED9HrRUnANckQRgc5MS4Gghh//NExA0VgXa8AY94AHtxYDPRx1naohhDHOxZXanSxoqF4eA9Z5znI4NrJKXVNZpnNqRKXvv/Ptq+LeHTX+JPWtrTzelqx63vv+sSN7ZrFqUILlGcAh0yQYw0guC3nWiT//NExAoTyXa8AY9YAHUYzrpSncuY75Ok5AZDYaASDQ0HoPQ3D6DsEQ2J4hmJMJID042Yh7GV/xLW72RZpzsZXxwqemHNcu+bZTZdx6rgGFujySpXIOEsELEXmpi7LSXk//NExA0VQT6wAZh4AY2119m7N3i8uf5cwmpblSq0+5q17guJejIohiErLyU3VTqPSsbVNXvv/Ptq2ordFp/9sX+f4Tq2os8Sg8pkJ5FJ4Eefbb//5YypqLOArH4YjDLl//NExAsQ0SqcAdhAATpQ0wqu9MtfSGn/dGVwDhErcdltBTBwDwfgaGAVGiristCzxpbqkXNf/1/bcrBRI+ldOOGoY2ppan/FOCkMwsRZAmCelULxSxnWpJlMsBUNI/GJ//NExBoQ8WqAAMsKlO2tGygF5EHRLBqIJ7RczjNPmZmZ/2Z7/re8sylQJCrpTU7qWhVix3qKpgqFGcxRoIsNGTxq6h9/4rBr6u7eyo2zJWjRAcieNEIeks+TpxIqeTKx//NExCkSSWpgANpElM/33lMBCTO7mslvZjHCscCYtjamlGhhQYct7LWRTNJLVQQ0iQAlBaJ2iDks8RSe5gSgzrFURXBCAkO2QmJi7kJiJMbJyY9oigNBySXqabU1HNbq//NExDIRMS5AAMMOcN6HHafjpaInlagaBo9wag0e/kkD6HyP0DWjIOLFUyeiXA4OeBdgIGXglEqoZL7BmCWeFVNpvqtVT0cto7HRKgMQWdFHvEiUWDoTB1xttvReZ6ak//NExEASQQ34AHmGcNqh3RcZjXfPaSYzK3qYTEmTvzB9CRgrSIUB0A2R7BzAxhQazLYHADGZaUBVhlZRAFTGBKfcwyMa44tJDRQQwg7Xu0M9H///QlLihyfe40/WczbQ//NExEoPqKHwAMGGTA0inSUDzhiMW7BukgYOqQ9QnAySgisNqIpe9TCzT4iehlkXLpDpQUYpC8DSjN7ZN8ZU3o///RVtAFSLx1XMscuNVB4LHYJIJjya+ReoQKuoLYeC//NExF4QWHn0AMJGSGHUQwcrDjg4PB8YJliUe40ETgs0UMMQtlVK6O3Q6tHa7Y+3bs87U+9va+oOEQ1MK5/RAMYUJBgicJTHRoDYbYaakWMiqAuBCYqUvMkBcofMmljm//NExG8RwKn0AMJGTKZJJUcwSJc9jfd1qaBCYRAhICExX/9CrTKBa1IScr1K3KezVFpVziCMtbmECeLUtVKVU1n/KX6yBASELKDQOwFxY5BwoPNttOXkC5Ue9hdbwiXQ//NExHsQ+FH8AHjGJPNLYUWu5CxUyaYvQz6FdNqKryEcBT2Adx6wYY64a0PjBJAwOcMUAdzf9CnCJlhomQzh8ALKEmDYbDInNMApEmfc8HDUgxtlr73HFu+M16/cjv////NExIoSeMYAAHmGcFKkac0QykXEyJ76J4ZHRU4AVTSryTWkmrixpt02x/6kx8KMBGRkGINXJPFXETsRFp4KlXEBY0o04BNrW5Z1ANB27U+sYoed1AJXhoqV+NcdDWkA//NExJMQKL4IAHiGTFwfYuBe0Yq0ocRok9Ng/1A5xDiAWFiByKhRIIjRA5Hb/9UX4rAwcf4oYGDQy//yMmUMDqH/kzWXrBQwIOCdnWKt1ijahYV/izP/lhcVrFZMQU1F//NExKUUQN4EAMIGcDMuMTAwqqqqqqqqqqqqqqqqqqqqqqqqqqqqqqqqqqqqqqqqqqqqqqqqqqqqqqqqqqqqqqqqqqqqqqqqqqqqqqqqqqqqqqqqqqqqqqqqqqqqqqqq//NExKcT8ZWYAHlGlKqqqqqqqqqqqqqqqqqqqqqqqqqqqqqqqqqqqqqqqqqqqqqqqqqqqqqqqqqqqqqqqqqqqqqqqqqqqqqqqqqqqqqqqqqqqqqqqqqqqqqqqqqqqqqq\" type=\"audio/mpeg\" />\n",
              "                    Your browser does not support the audio element.\n",
              "                </audio>\n",
              "              "
            ]
          },
          "metadata": {}
        },
        {
          "output_type": "display_data",
          "data": {
            "text/plain": [
              "<IPython.lib.display.Audio object>"
            ],
            "text/html": [
              "\n",
              "                <audio  controls=\"controls\" autoplay=\"autoplay\">\n",
              "                    <source src=\"data:audio/mpeg;base64,//NExAAOWxn8AUIQAAAAEMpznOT+Q5/5CN+///3/yf53/t//////////////qc5CEIQhAggDAwMDAwMDAwMAAAAAAAAAEMqiqmunokNnvgAkrW86bUONM7+s5uf+4B4s//NExBkXmyY4AZs4AD/c/FpcaDn0zlKi8HY8Q/rMMhhxwux//oisx1jz3/9Tb80cjioiFDP/0P+x9z1RXdqOVmUzUd7ftOMY+5ezL0SfV2dnLrUkT3b3/v+f//////X7//NExA0UOyq0AYI4AH9kY2THygtiIEJw4v+e+YYjOFRLEBxqECLf/zNp57HuQRmc8dPKoIhMt//57sYzmMXMY9Gx0aDIljQVCWMCWGxIEsbIJfI0X9f+Xp//v/P///58//NExA8U+xrAAcEYAO+WXPcaC0EjuLqmFgYnBcLd2MsFqrSxinkeFYokY6h2P8effPcojMJranTBvih0rKbwBmGauQIlChkCOzsoKjQYEjEH07gAVysM7fM+Znm1QUFw//NExA4VSk64ABlKuYChXZ8pCd0VU23UuVlRDGRNjIJDRRAGcRFBw0rILKyFobdTNcu3UyOn5lLy3ZWmNKXezuUVlaxlO7MVhVe/m01jZXCsjoT9KqWbGIj8KWfdfguu//NExAsU+NqkAMpGcMIQll+4YtRmQADChdpAwIAxqYJiklM6TO1nHtw9AgQc0IWYkEXYmYMUcNhoXGjn2KDR0s938sW+SnkFmOZrcxqehIv3lleBj1Ws7IVJDhzNMJ+R//NExAoUAU6cAN4QlArj7cBrKoG8tCxzm0+8slE6ewsOUFiDcivTH5mGrXZRl+9fu5lqWa+UVsiQiYQw+bF14r/7nZcitB1Yr5GM/////2r/4oqzAAXVnzbK7fQVopqs//NExA0SmUKcANPacOQygLIp+chtkyiL7JhPkHCPHIdwAbF9YB5DThJIol8d5QmZGW486hluTAiiox7JoZ1vvmulq5+X////r/0qnX2Chk+w5ZtGYFw9jYzCqHcgVfNr//NExBUR+PKgANPecHU1ddJ/adZ6KY863C+VWgUY8J1gOiiRODFS1zITx5ELm4Ttrn8qjXfaKvI3e/////2/0a0GiI4dJC0yVGUd1JcFRacMHjSNs4SePjyIbY3IrFFn//NExCAQuPKgANNecAnqt0pBGYsMDg6yOiJ0LdSDZSul+T4Y/tc5HPT7Vyv///8sqQyFzB+R6voBNWuXHFAQFlcgFZbyCdeb1BV8lzVCfeCVHovLOzALbWRRweX1xjEx//NExDASmT6cANLecDxo3o3WIG/SNq1vmnxne97+dUvMID3///1yVbz6DJc5J5p68TNE6e6mU51OBq6h59e47nqCuRW82NMPwztg7mvNujpxh7m90nj/HLH2511MdMZJ//NExDgSYUacANIWcNPuOn7bu5t6ako68gKirDX5VcbTDTkBG9fAcRKQzYRcvdnP4PvEZ2V2V3P/L3/Oyk9IIMTHxXQg7mAIDJv5g54/S4EWDJkIBb7fff1sbr2P/QrV//NExEEP2U6oANGGlAkjBBeUPucetRrkBJyemN/JRcn64rQf0c9vz7x3OJYITpEUTHz0nJlNYdEtY2Gf2ZEEKjMiLMICcMOGlXf//7zN5VQ+D2pcMiqrSJuaitmhi3+I//NExFQQaUqsAMLMlGbK8uul3E1TW//BA0VJHg6GAHhgTCuK8O2srjvHOqV5HMw0lk/hSRuB8XUPKqBP///3LcawiEFqnjEM91sYBZZdcfXv6cw73WyeXVTrfVx8QxqV//NExGURMVawAMoSlJuakAVigKjM8371tWHPydgbcRWQD1ZPWp8SoyTr2TBp6g7///qs///6VaaUCsiumjmEQ5YVTRmirSIGz16XDrLbxbtFcLx8S4wefVmBYPhQJkcZ//NExHMSUVqsAMrYlMqS3Ib8q3QXMJTgtHynpZ8zmUuWeR///rUJbP//2K0qiaWgUfHgQDGdyohHOYlQFa6dLLmI2aQ+Yb12299bVv1tpes9Oyyw/Q+KxiOIUiiSTtpx//NExHwSGVKoAMoSlGxqLo5NUSuK1//+7Jc4FRwJLV///nbeuo8R3/1fsIUzSQ0/gz6A3ZohVGYAGIWmcbhj2gWGUxfKOxXdA/0t5jh3Hn/2r/ebnxti5NDQeYAclqYq//NExIYUaVKQAMsMlNGLFGGgw9kip5IiOee/TV/+V/PHaqRb0HCfeAImY0A4sosx+ENcSL58Ti8eaN1FwuBPAvwOLxg7x7BPTUl/rNzTIAShKh6Ew/cwNFIMTBg2IIjY//NExIcS+OZcAVowAMj+ybtQkiSDjlJIxJ//TdBBmsyBoPQ0MSsexAHb/+nL5vpunx2G5YXhg1kAbyePxAJH//101MggzWZPkucLhHMTZMxJEyKxhR3E+odVaCUpgioi//NExI4hYyqIAZhoAFJhCDB6qShhjYkCMTCYnLhYkzYmoJfQ/P5Pe8UoZkt9lsry5Pv5CqNeTMWmOsBRTFSpjbf+OyOcvDyWDNybeE1Kudvv0uMqvffZS2KA7cVkX//c//NExFsg0XqkAZrAALv29f+WFimtTkOv9KZTtQHVX1H+fGDElRj7QCJSHVvSdsUv9Jz6AMSqTEDtlVglBXaMRcAkRKBAhDZmI2BY6TjYBQoOK1l5mmNusO68QhiigB62//NExCocyXK0AZjAAJ5f9iGLSVjuBDwVEp21J3IhMy+CcYu/cba6/OVBejccllJK7cUhyUT+WMcf6LU8zLbdJ8slc/nuno4YlFFT95hSdrjncPnNX/TVLMxVAQ8wh+Lx//NExAkScP7QAY9gAX1QIYyLRmFjM8sarTI9PmJTLiIGBMOISSNFjQc3lZbHMgqD7c+qzq/Rzr3/1rU5ekL9SCCHrpYpRWUiooHv7//tJWQsYI5BZBPzSPlVEiR5OxcR//NExBIWkW7EAY94AOJdwTCiLYwqZqbC9IaGmriwOKdKKKbpKC3xUcSAuC29rn6dPqT1eapm+LSwvbMRzngwqv7w7/OP/Cra1YMCHm9KbgBkJ9BvhhVDjAIGN1UhzMKo//NExAoVKXbIAY94ADRUylL6eBBZxPS/JQ5D6eTKU5SIOMyFhZYWRXGygGFOEjVSqm+Mae1t6xd2rv6i21FtaW1oNqx55o/1j4trFs4tLauL5xqYIe3g4iMENQstSYl4//NExAgUcXbIAY94AMmghTOiohbCgXRfjSHeP9V2cD9RK7MlFP0PScRaO40qPDiPFliU9NZ3nWolvbN95zef1rbwrZpWSHSmt4xv4tnwcfNK4j7P9PhKHIN9RIoe4sLk//NExAkTmSbEAY9gAHG1pRDY6SJIsJ45ThG4IFgbLScAkRS4IAwcccEYfnxxIgue2+/S032bWrlvpNNf2bX+0zacjiD4fAZ8FypYiFAeED9HrRUnANckQRgc5MS4Gghh//NExA0VgXa8AY94AHtxYDPRx1naohhDHOxZXanSxoqF4eA9Z5znI4NrJKXVNZpnNqRKXvv/Ptq+LeHTX+JPWtrTzelqx63vv+sSN7ZrFqUILlGcAh0yQYw0guC3nWiT//NExAoTyXa8AY9YAHUYzrpSncuY75Ok5AZDYaASDQ0HoPQ3D6DsEQ2J4hmJMJID042Yh7GV/xLW72RZpzsZXxwqemHNcu+bZTZdx6rgGFujySpXIOEsELEXmpi7LSXk//NExA0VQT6wAZh4AY2119m7N3i8uf5cwmpblSq0+5q17guJejIohiErLyU3VTqPSsbVNXvv/Ptq2ordFp/9sX+f4Tq2os8Sg8pkJ5FJ4Eefbb//5YypqLOArH4YjDLl//NExAsQ0SqcAdhAATpQ0wqu9MtfSGn/dGVwDhErcdltBTBwDwfgaGAVGiristCzxpbqkXNf/1/bcrBRI+ldOOGoY2ppan/FOCkMwsRZAmCelULxSxnWpJlMsBUNI/GJ//NExBoQ8WqAAMsKlO2tGygF5EHRLBqIJ7RczjNPmZmZ/2Z7/re8sylQJCrpTU7qWhVix3qKpgqFGcxRoIsNGTxq6h9/4rBr6u7eyo2zJWjRAcieNEIeks+TpxIqeTKx//NExCkSSWpgANpElM/33lMBCTO7mslvZjHCscCYtjamlGhhQYct7LWRTNJLVQQ0iQAlBaJ2iDks8RSe5gSgzrFURXBCAkO2QmJi7kJiJMbJyY9oigNBySXqabU1HNbq//NExDIRMS5AAMMOcN6HHafjpaInlagaBo9wag0e/kkD6HyP0DWjIOLFUyeiXA4OeBdgIGXglEqoZL7BmCWeFVNpvqtVT0cto7HRKgMQWdFHvEiUWDoTB1xttvReZ6ak//NExEASQQ34AHmGcNqh3RcZjXfPaSYzK3qYTEmTvzB9CRgrSIUB0A2R7BzAxhQazLYHADGZaUBVhlZRAFTGBKfcwyMa44tJDRQQwg7Xu0M9H///QlLihyfe40/WczbQ//NExEoPqKHwAMGGTA0inSUDzhiMW7BukgYOqQ9QnAySgisNqIpe9TCzT4iehlkXLpDpQUYpC8DSjN7ZN8ZU3o///RVtAFSLx1XMscuNVB4LHYJIJjya+ReoQKuoLYeC//NExF4QWHn0AMJGSGHUQwcrDjg4PB8YJliUe40ETgs0UMMQtlVK6O3Q6tHa7Y+3bs87U+9va+oOEQ1MK5/RAMYUJBgicJTHRoDYbYaakWMiqAuBCYqUvMkBcofMmljm//NExG8RwKn0AMJGTKZJJUcwSJc9jfd1qaBCYRAhICExX/9CrTKBa1IScr1K3KezVFpVziCMtbmECeLUtVKVU1n/KX6yBASELKDQOwFxY5BwoPNttOXkC5Ue9hdbwiXQ//NExHsQ+FH8AHjGJPNLYUWu5CxUyaYvQz6FdNqKryEcBT2Adx6wYY64a0PjBJAwOcMUAdzf9CnCJlhomQzh8ALKEmDYbDInNMApEmfc8HDUgxtlr73HFu+M16/cjv////NExIoSeMYAAHmGcFKkac0QykXEyJ76J4ZHRU4AVTSryTWkmrixpt02x/6kx8KMBGRkGINXJPFXETsRFp4KlXEBY0o04BNrW5Z1ANB27U+sYoed1AJXhoqV+NcdDWkA//NExJMQKL4IAHiGTFwfYuBe0Yq0ocRok9Ng/1A5xDiAWFiByKhRIIjRA5Hb/9UX4rAwcf4oYGDQy//yMmUMDqH/kzWXrBQwIOCdnWKt1ijahYV/izP/lhcVrFZMQU1F//NExKUUQN4EAMIGcDMuMTAwqqqqqqqqqqqqqqqqqqqqqqqqqqqqqqqqqqqqqqqqqqqqqqqqqqqqqqqqqqqqqqqqqqqqqqqqqqqqqqqqqqqqqqqqqqqqqqqqqqqqqqqq//NExKcT8ZWYAHlGlKqqqqqqqqqqqqqqqqqqqqqqqqqqqqqqqqqqqqqqqqqqqqqqqqqqqqqqqqqqqqqqqqqqqqqqqqqqqqqqqqqqqqqqqqqqqqqqqqqqqqqqqqqqqqqq\" type=\"audio/mpeg\" />\n",
              "                    Your browser does not support the audio element.\n",
              "                </audio>\n",
              "              "
            ]
          },
          "metadata": {}
        }
      ]
    }
  ]
}