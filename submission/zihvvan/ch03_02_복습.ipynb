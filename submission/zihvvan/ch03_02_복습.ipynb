{
  "nbformat": 4,
  "nbformat_minor": 0,
  "metadata": {
    "colab": {
      "provenance": [],
      "authorship_tag": "ABX9TyOeBV0Wu3D9p/RUB7iahvLw",
      "include_colab_link": true
    },
    "kernelspec": {
      "name": "python3",
      "display_name": "Python 3"
    },
    "language_info": {
      "name": "python"
    }
  },
  "cells": [
    {
      "cell_type": "markdown",
      "metadata": {
        "id": "view-in-github",
        "colab_type": "text"
      },
      "source": [
        "<a href=\"https://colab.research.google.com/github/zihvvan/Python/blob/main/submission/zihvvan/ch03_02_%EB%B3%B5%EC%8A%B5.ipynb\" target=\"_parent\"><img src=\"https://colab.research.google.com/assets/colab-badge.svg\" alt=\"Open In Colab\"/></a>"
      ]
    },
    {
      "cell_type": "markdown",
      "source": [
        "# 클래스 (Class : Classification)"
      ],
      "metadata": {
        "id": "yxLAKKL_kuOI"
      }
    },
    {
      "cell_type": "code",
      "execution_count": null,
      "metadata": {
        "id": "1s26VYT2i9os"
      },
      "outputs": [],
      "source": [
        "class Teacher: # class 클래스이름:\n",
        "    def __init__(self): #def __init__(self): 생성자\n",
        "        self.name = \"이명직\""
      ]
    },
    {
      "cell_type": "code",
      "source": [
        "lee = Teacher() # 클래스() : 해당 클래스를 기반으로 하는 인스턴스(객체)를 생성해주겠다\n",
        "# 클래스 : 특정한 객체를 만들 수 있는 설계도\n",
        "# 인스턴스 :  클래스로 만들어진 객체\n",
        "# 객체 : 특정한 기능이나 값들의 묶음\n",
        "lee"
      ],
      "metadata": {
        "colab": {
          "base_uri": "https://localhost:8080/"
        },
        "id": "Hf3TrxZXljj1",
        "outputId": "90f56d74-c2f2-4427-eabe-41ab9e6dafb9"
      },
      "execution_count": null,
      "outputs": [
        {
          "output_type": "execute_result",
          "data": {
            "text/plain": [
              "<__main__.Teacher at 0x7f83174680d0>"
            ]
          },
          "metadata": {},
          "execution_count": 2
        }
      ]
    },
    {
      "cell_type": "code",
      "source": [
        "lee.name # 인스턴스의 속성"
      ],
      "metadata": {
        "colab": {
          "base_uri": "https://localhost:8080/",
          "height": 35
        },
        "id": "BywUnDrQl7Ae",
        "outputId": "8e86e1e6-9442-4c87-e964-df413259a6f2"
      },
      "execution_count": null,
      "outputs": [
        {
          "output_type": "execute_result",
          "data": {
            "text/plain": [
              "'이명직'"
            ],
            "application/vnd.google.colaboratory.intrinsic+json": {
              "type": "string"
            }
          },
          "metadata": {},
          "execution_count": 3
        }
      ]
    },
    {
      "cell_type": "code",
      "source": [
        "class Teacher: # class 클래스이름:\n",
        "    def __init__(self): #def __init__(self): 생성자\n",
        "        self.name = \"이명직\"\n",
        "    # 클래스에 속한 함수(기능) -> 메소드, 메서드. (method)\n",
        "    def lesson(self): # def 메소드이름(self)\n",
        "        print(\"수업을 시작하겠습니다!\")"
      ],
      "metadata": {
        "id": "3U3L0t3LmDHn"
      },
      "execution_count": null,
      "outputs": []
    },
    {
      "cell_type": "code",
      "source": [
        "lee = Teacher()\n",
        "lee.lesson() # 인스턴스.메소드명()"
      ],
      "metadata": {
        "colab": {
          "base_uri": "https://localhost:8080/"
        },
        "id": "WHPjrqUxmbOU",
        "outputId": "ebbf886f-18db-4d25-d687-73425007f603"
      },
      "execution_count": null,
      "outputs": [
        {
          "output_type": "stream",
          "name": "stdout",
          "text": [
            "수업을 시작하겠습니다!\n"
          ]
        }
      ]
    },
    {
      "cell_type": "code",
      "source": [
        "class Teacher: # class 클래스이름:\n",
        "    def __init__(self, name): #def __init__(self, 매개변수 - parameter): 생성자 <- 인자(argment) (외부)\n",
        "        # self.name = \"이명직\"\n",
        "        self.name = name\n",
        "\n",
        "    # 클래스에 속한 함수(기능) -> 메소드, 메서드. (method)\n",
        "    def lesson(self, time, *args, comment=\"뭘 하면 좋을까요\", **kwargs): # def 메소드이름(self)\n",
        "       # 자기소개를 한다 (인스턴스 -> name)\n",
        "        print(f\"제 이름은 {self.name}입니다.\")\n",
        "       # 수업 시간을 알려준다 (매개변수 -> time)\n",
        "        print(f\"오늘의 수업시간은 {time:.2f}시간입니다.\")\n",
        "       # 수업 과목 목록을 돌려준다 (args -> for 반복)\n",
        "        print(f\"오늘의 수업과목은\")\n",
        "        # for v in args: # *args -> 튜플 -> 시퀀스 -> for로 반복이 가능\n",
        "        # enumerate : 시퀀스형 객체를 '인덱스, 값' 형태의 튜플로 원소들을 바꿔줌\n",
        "        for i, v in enumerate(args): # *args -> 튜플 -> 시퀀스 -> for로 반복이 가능\n",
        "            # 각각의 요소(element)를 v라는 변수 이름으로 받겠다\n",
        "            # v는 루프가 한 번 돌때마다 순서대로 새로운 요소 값을 받는다\n",
        "            print(i, v)\n",
        "            # print(v)\n",
        "        print(\"입니다\")\n",
        "        print(\"수업을 시작하겠습니다!\")\n",
        "        print(comment)\n",
        "        # kwargs -> 수강생명:질문\n",
        "        for k, v in kwargs.items():\n",
        "            print(f\"{k}님이 질문하셨네요\")\n",
        "            print(f\"{v}에 대해서 답해드릴게요\")\n",
        "            print(\"실은 저도 잘 몰라요\")"
      ],
      "metadata": {
        "id": "vM7Q1-aompBl"
      },
      "execution_count": null,
      "outputs": []
    },
    {
      "cell_type": "code",
      "source": [
        "import math \n",
        "\n",
        "# lee = Teacher() # name -> name이라고 하는 매개변수를 입력안하면 나 실행 안할꺼야!\n",
        "lee = Teacher('이단단') # name -> name이라고 하는 매개변수를 입력안하면 나 실행 안할꺼야!\n",
        "print(lee.name)\n",
        "# lee.lesson() # time\n",
        "lee.lesson(math.pi) # time"
      ],
      "metadata": {
        "colab": {
          "base_uri": "https://localhost:8080/"
        },
        "id": "hgAfUqqWnTI_",
        "outputId": "48ece103-ce34-49fc-e71d-0bd8552a147d"
      },
      "execution_count": null,
      "outputs": [
        {
          "output_type": "stream",
          "name": "stdout",
          "text": [
            "이단단\n",
            "제 이름은 이단단입니다.\n",
            "오늘의 수업시간은 3.14시간입니다.\n",
            "오늘의 수업과목은\n",
            "입니다\n",
            "수업을 시작하겠습니다!\n",
            "뭘 하면 좋을까요\n"
          ]
        }
      ]
    },
    {
      "cell_type": "code",
      "source": [
        "lee.lesson(math.pi, \"자바\", \"자바스크립트\", \"Numpy\", \n",
        "           comment= \"오늘은 기분이 참 좋네요!\",\n",
        "           john=\"강사님 타자가 너무 빨라요\",\n",
        "           james=\"강사님 수업 진도만 나가면 안될까요\",\n",
        "           kate=\"강사님 깃허브 꼬였어요\")"
      ],
      "metadata": {
        "colab": {
          "base_uri": "https://localhost:8080/"
        },
        "id": "Bq-AOUl9rYVz",
        "outputId": "7d2c9245-41e4-48cb-d74a-6e012a1f1edc"
      },
      "execution_count": null,
      "outputs": [
        {
          "output_type": "stream",
          "name": "stdout",
          "text": [
            "제 이름은 이단단입니다.\n",
            "오늘의 수업시간은 3.14시간입니다.\n",
            "오늘의 수업과목은\n",
            "0 자바\n",
            "1 자바스크립트\n",
            "2 Numpy\n",
            "입니다\n",
            "수업을 시작하겠습니다!\n",
            "오늘은 기분이 참 좋네요!\n",
            "john님이 질문하셨네요\n",
            "강사님 타자가 너무 빨라요에 대해서 답해드릴게요\n",
            "실은 저도 잘 몰라요\n",
            "james님이 질문하셨네요\n",
            "강사님 수업 진도만 나가면 안될까요에 대해서 답해드릴게요\n",
            "실은 저도 잘 몰라요\n",
            "kate님이 질문하셨네요\n",
            "강사님 깃허브 꼬였어요에 대해서 답해드릴게요\n",
            "실은 저도 잘 몰라요\n"
          ]
        }
      ]
    },
    {
      "cell_type": "code",
      "source": [
        "class CheonBeer:\n",
        "    counter=1 # 클래스들이 모두 공유\n",
        "    \n",
        "    def __init__(self):\n",
        "        print(f\"축하합니다! {CheonBeer.counter}호점을 개점했습니다!\")\n",
        "        CheonBeer.counter += 1 # 1을 더해주고 그 값을 해당 변수에 다시 대입"
      ],
      "metadata": {
        "id": "aiqRwvBvvglY"
      },
      "execution_count": null,
      "outputs": []
    },
    {
      "cell_type": "code",
      "source": [
        "s1 = CheonBeer()\n",
        "s1.counter"
      ],
      "metadata": {
        "colab": {
          "base_uri": "https://localhost:8080/"
        },
        "id": "bcvsC5pqwOGY",
        "outputId": "4e0405f9-7d73-4fc0-caa7-9e37036607a4"
      },
      "execution_count": null,
      "outputs": [
        {
          "output_type": "stream",
          "name": "stdout",
          "text": [
            "축하합니다! 1호점을 개점했습니다!\n"
          ]
        },
        {
          "output_type": "execute_result",
          "data": {
            "text/plain": [
              "2"
            ]
          },
          "metadata": {},
          "execution_count": 89
        }
      ]
    },
    {
      "cell_type": "code",
      "source": [
        "s2 = CheonBeer()\n",
        "s1.counter, s2.counter"
      ],
      "metadata": {
        "colab": {
          "base_uri": "https://localhost:8080/"
        },
        "id": "K636rx7r8Mt4",
        "outputId": "a2fe65ac-fa19-4eb8-ae83-b7865f88f3ca"
      },
      "execution_count": null,
      "outputs": [
        {
          "output_type": "stream",
          "name": "stdout",
          "text": [
            "축하합니다! 2호점을 개점했습니다!\n"
          ]
        },
        {
          "output_type": "execute_result",
          "data": {
            "text/plain": [
              "(3, 3)"
            ]
          },
          "metadata": {},
          "execution_count": 90
        }
      ]
    },
    {
      "cell_type": "code",
      "source": [
        "# 클래스 속성\n",
        "# 클래스 -> 인스턴스 -> 개별 인스터스 속성\n",
        "\n",
        "class CheonBeer:\n",
        "    counter=1 # 클래스들이 모두 공유\n",
        "    \n",
        "    def __init__(self):\n",
        "        print(f\"축하합니다! {self.counter}호점을 개점했습니다!\")\n",
        "        self.counter += 1 # 1을 더해주고 그 값을 해당 변수에 다시 대입"
      ],
      "metadata": {
        "id": "sk6Hz1FawcPw"
      },
      "execution_count": null,
      "outputs": []
    },
    {
      "cell_type": "code",
      "source": [
        "s1 = CheonBeer()\n",
        "s1.counter"
      ],
      "metadata": {
        "colab": {
          "base_uri": "https://localhost:8080/"
        },
        "id": "kCH8jfE_wjs6",
        "outputId": "efce59bc-4421-4253-a7d2-9f403d6ee178"
      },
      "execution_count": null,
      "outputs": [
        {
          "output_type": "stream",
          "name": "stdout",
          "text": [
            "축하합니다! 1호점을 개점했습니다!\n"
          ]
        },
        {
          "output_type": "execute_result",
          "data": {
            "text/plain": [
              "2"
            ]
          },
          "metadata": {},
          "execution_count": 92
        }
      ]
    },
    {
      "cell_type": "code",
      "source": [
        "s2 = CheonBeer()\n",
        "s1.counter, s2.counter"
      ],
      "metadata": {
        "colab": {
          "base_uri": "https://localhost:8080/"
        },
        "id": "3hKZn-rzwmRl",
        "outputId": "d8d217ec-fd62-45e4-b678-5999c137daeb"
      },
      "execution_count": null,
      "outputs": [
        {
          "output_type": "stream",
          "name": "stdout",
          "text": [
            "축하합니다! 1호점을 개점했습니다!\n"
          ]
        },
        {
          "output_type": "execute_result",
          "data": {
            "text/plain": [
              "(2, 2)"
            ]
          },
          "metadata": {},
          "execution_count": 93
        }
      ]
    },
    {
      "cell_type": "code",
      "source": [
        "class CheonBeer:\n",
        "    counter=1 # 클래스들이 모두 공유\n",
        "    \n",
        "    def __init__(self):\n",
        "        print(f\"축하합니다! {CheonBeer.counter}호점을 개점했습니다!\") # self로 지정해서 하면, 클래스간 공유를 안함\n",
        "        self.my_counter = CheonBeer.counter\n",
        "        CheonBeer.counter += 1 # 1을 더해주고 그 값을 해당 변수에 다시 대입"
      ],
      "metadata": {
        "id": "bvmnSkWKw7OI"
      },
      "execution_count": null,
      "outputs": []
    },
    {
      "cell_type": "code",
      "source": [
        "s1 = CheonBeer()\n",
        "s2 = CheonBeer()\n",
        "s1.counter, s2.counter, s1.my_counter, s2.my_counter"
      ],
      "metadata": {
        "colab": {
          "base_uri": "https://localhost:8080/"
        },
        "id": "xUqYaVeSxCeA",
        "outputId": "62266c9b-244a-4d2e-fcc1-284206c22fc6"
      },
      "execution_count": null,
      "outputs": [
        {
          "output_type": "stream",
          "name": "stdout",
          "text": [
            "축하합니다! 1호점을 개점했습니다!\n",
            "축하합니다! 2호점을 개점했습니다!\n"
          ]
        },
        {
          "output_type": "execute_result",
          "data": {
            "text/plain": [
              "(3, 3, 1, 2)"
            ]
          },
          "metadata": {},
          "execution_count": 95
        }
      ]
    },
    {
      "cell_type": "code",
      "source": [
        "class ManBeer(CheonBeer): # class 하위클래스(상위클래스):\n",
        "    pass"
      ],
      "metadata": {
        "id": "dzMy0SHJxD5n"
      },
      "execution_count": null,
      "outputs": []
    },
    {
      "cell_type": "code",
      "source": [
        "a1 = ManBeer()\n",
        "a1.counter, a1.my_counter"
      ],
      "metadata": {
        "colab": {
          "base_uri": "https://localhost:8080/"
        },
        "id": "XDSVfvp3yAeM",
        "outputId": "043fadfd-b415-4076-9947-36145cd3a46a"
      },
      "execution_count": null,
      "outputs": [
        {
          "output_type": "stream",
          "name": "stdout",
          "text": [
            "축하합니다! 3호점을 개점했습니다!\n"
          ]
        },
        {
          "output_type": "execute_result",
          "data": {
            "text/plain": [
              "(4, 3)"
            ]
          },
          "metadata": {},
          "execution_count": 97
        }
      ]
    },
    {
      "cell_type": "code",
      "source": [
        "class ManBeer(CheonBeer): # class 하위클래스(상위클래스):\n",
        "    def __init__(self, prize, visitor_count): # 덮어씌워서 다시 메소드를 작성하는 것 -> 메소드 오버라이딩\n",
        "        print(f\"{visitor_count}번째 손님에게 {prize}를 드립니다\")"
      ],
      "metadata": {
        "id": "38yeqTfpyo-A"
      },
      "execution_count": null,
      "outputs": []
    },
    {
      "cell_type": "code",
      "source": [
        "a1 = ManBeer(\"아이폰\", 10000)\n",
        "a1.counter, a1.my_counter"
      ],
      "metadata": {
        "colab": {
          "base_uri": "https://localhost:8080/",
          "height": 209
        },
        "id": "el5dpKvwyqv6",
        "outputId": "95e6d6e1-89c4-474a-b7b0-dd59d8a9d8a3"
      },
      "execution_count": null,
      "outputs": [
        {
          "output_type": "stream",
          "name": "stdout",
          "text": [
            "10000번째 손님에게 아이폰를 드립니다\n"
          ]
        },
        {
          "output_type": "error",
          "ename": "AttributeError",
          "evalue": "ignored",
          "traceback": [
            "\u001b[0;31m---------------------------------------------------------------------------\u001b[0m",
            "\u001b[0;31mAttributeError\u001b[0m                            Traceback (most recent call last)",
            "\u001b[0;32m<ipython-input-99-eab1d7d8cb4a>\u001b[0m in \u001b[0;36m<module>\u001b[0;34m\u001b[0m\n\u001b[1;32m      1\u001b[0m \u001b[0ma1\u001b[0m \u001b[0;34m=\u001b[0m \u001b[0mManBeer\u001b[0m\u001b[0;34m(\u001b[0m\u001b[0;34m\"아이폰\"\u001b[0m\u001b[0;34m,\u001b[0m \u001b[0;36m10000\u001b[0m\u001b[0;34m)\u001b[0m\u001b[0;34m\u001b[0m\u001b[0;34m\u001b[0m\u001b[0m\n\u001b[0;32m----> 2\u001b[0;31m \u001b[0ma1\u001b[0m\u001b[0;34m.\u001b[0m\u001b[0mcounter\u001b[0m\u001b[0;34m,\u001b[0m \u001b[0ma1\u001b[0m\u001b[0;34m.\u001b[0m\u001b[0mmy_counter\u001b[0m\u001b[0;34m\u001b[0m\u001b[0;34m\u001b[0m\u001b[0m\n\u001b[0m",
            "\u001b[0;31mAttributeError\u001b[0m: 'ManBeer' object has no attribute 'my_counter'"
          ]
        }
      ]
    },
    {
      "cell_type": "code",
      "source": [
        "class ManBeer(CheonBeer): # class 하위클래스(상위클래스):\n",
        "    def __init__(self, prize, visitor_count): # 덮어씌워서 다시 메소드를 작성하는 것 -> 메소드 오버라이딩\n",
        "        # super(ManBeer, self).__init__()\n",
        "        super().__init__() # super(본인클래스, self): 자기자신의 부모를 호출 -> self\n",
        "        print(f\"{visitor_count}번째 손님에게 {prize}를 드립니다\")"
      ],
      "metadata": {
        "id": "nh7CaCRryxSC"
      },
      "execution_count": null,
      "outputs": []
    },
    {
      "cell_type": "code",
      "source": [
        "a1 = ManBeer(\"아이폰\", 10000)\n",
        "a1.counter, a1.my_counter"
      ],
      "metadata": {
        "colab": {
          "base_uri": "https://localhost:8080/"
        },
        "id": "AqjDLnjNy7uU",
        "outputId": "7ee5cbf9-6800-4afc-c786-2017e79e3d85"
      },
      "execution_count": null,
      "outputs": [
        {
          "output_type": "stream",
          "name": "stdout",
          "text": [
            "축하합니다! 4호점을 개점했습니다!\n",
            "10000번째 손님에게 아이폰를 드립니다\n"
          ]
        },
        {
          "output_type": "execute_result",
          "data": {
            "text/plain": [
              "(5, 4)"
            ]
          },
          "metadata": {},
          "execution_count": 101
        }
      ]
    },
    {
      "cell_type": "code",
      "source": [
        "class ManWine(ManBeer):\n",
        "    def __init__(self, msg):\n",
        "        super().__init__() # ManBeer를 super로 쓰게 됨\n",
        "        print(f\"행운의 포춘쿠키 : {msg}\")"
      ],
      "metadata": {
        "id": "Tnspebk3zGX3"
      },
      "execution_count": null,
      "outputs": []
    },
    {
      "cell_type": "code",
      "source": [
        "a2 = ManWine(\"주변 사람에게 잘 하세요\")\n",
        "a2.counter, a2.my_counter"
      ],
      "metadata": {
        "colab": {
          "base_uri": "https://localhost:8080/",
          "height": 318
        },
        "id": "YO5OChTZzbAc",
        "outputId": "3a7a3f27-2c46-411b-846b-2621395c5a35"
      },
      "execution_count": null,
      "outputs": [
        {
          "output_type": "error",
          "ename": "TypeError",
          "evalue": "ignored",
          "traceback": [
            "\u001b[0;31m---------------------------------------------------------------------------\u001b[0m",
            "\u001b[0;31mTypeError\u001b[0m                                 Traceback (most recent call last)",
            "\u001b[0;32m<ipython-input-103-966e30c5cb61>\u001b[0m in \u001b[0;36m<module>\u001b[0;34m\u001b[0m\n\u001b[0;32m----> 1\u001b[0;31m \u001b[0ma2\u001b[0m \u001b[0;34m=\u001b[0m \u001b[0mManWine\u001b[0m\u001b[0;34m(\u001b[0m\u001b[0;34m\"주변 사람에게 잘 하세요\"\u001b[0m\u001b[0;34m)\u001b[0m\u001b[0;34m\u001b[0m\u001b[0;34m\u001b[0m\u001b[0m\n\u001b[0m\u001b[1;32m      2\u001b[0m \u001b[0ma2\u001b[0m\u001b[0;34m.\u001b[0m\u001b[0mcounter\u001b[0m\u001b[0;34m,\u001b[0m \u001b[0ma2\u001b[0m\u001b[0;34m.\u001b[0m\u001b[0mmy_counter\u001b[0m\u001b[0;34m\u001b[0m\u001b[0;34m\u001b[0m\u001b[0m\n",
            "\u001b[0;32m<ipython-input-102-ca537d7d3b42>\u001b[0m in \u001b[0;36m__init__\u001b[0;34m(self, msg)\u001b[0m\n\u001b[1;32m      1\u001b[0m \u001b[0;32mclass\u001b[0m \u001b[0mManWine\u001b[0m\u001b[0;34m(\u001b[0m\u001b[0mManBeer\u001b[0m\u001b[0;34m)\u001b[0m\u001b[0;34m:\u001b[0m\u001b[0;34m\u001b[0m\u001b[0;34m\u001b[0m\u001b[0m\n\u001b[1;32m      2\u001b[0m     \u001b[0;32mdef\u001b[0m \u001b[0m__init__\u001b[0m\u001b[0;34m(\u001b[0m\u001b[0mself\u001b[0m\u001b[0;34m,\u001b[0m \u001b[0mmsg\u001b[0m\u001b[0;34m)\u001b[0m\u001b[0;34m:\u001b[0m\u001b[0;34m\u001b[0m\u001b[0;34m\u001b[0m\u001b[0m\n\u001b[0;32m----> 3\u001b[0;31m         \u001b[0msuper\u001b[0m\u001b[0;34m(\u001b[0m\u001b[0;34m)\u001b[0m\u001b[0;34m.\u001b[0m\u001b[0m__init__\u001b[0m\u001b[0;34m(\u001b[0m\u001b[0;34m)\u001b[0m \u001b[0;31m# ManBeer를 super로 쓰게 됨\u001b[0m\u001b[0;34m\u001b[0m\u001b[0;34m\u001b[0m\u001b[0m\n\u001b[0m\u001b[1;32m      4\u001b[0m         \u001b[0mprint\u001b[0m\u001b[0;34m(\u001b[0m\u001b[0;34mf\"행운의 포춘쿠키 : {msg}\"\u001b[0m\u001b[0;34m)\u001b[0m\u001b[0;34m\u001b[0m\u001b[0;34m\u001b[0m\u001b[0m\n",
            "\u001b[0;31mTypeError\u001b[0m: __init__() missing 2 required positional arguments: 'prize' and 'visitor_count'"
          ]
        }
      ]
    },
    {
      "cell_type": "code",
      "source": [
        "class ManWine(ManBeer):\n",
        "    def __init__(self, msg):\n",
        "        super(ManBeer, self).__init__() # ManBeer의 부모 -> CheonBeer를 호출\n",
        "        print(f\"행운의 포춘쿠키 : {msg}\")"
      ],
      "metadata": {
        "id": "KWT5bDDizkOr"
      },
      "execution_count": null,
      "outputs": []
    },
    {
      "cell_type": "code",
      "source": [
        "a2 = ManWine(\"주변 사람에게 잘 하세요\")\n",
        "a2.counter, a2.my_counter"
      ],
      "metadata": {
        "colab": {
          "base_uri": "https://localhost:8080/"
        },
        "id": "Kyr3y9fOzsUM",
        "outputId": "c52c91cb-a253-47a8-fc48-5d7151e2d9e9"
      },
      "execution_count": null,
      "outputs": [
        {
          "output_type": "stream",
          "name": "stdout",
          "text": [
            "축하합니다! 5호점을 개점했습니다!\n",
            "행운의 포춘쿠키 : 주변 사람에게 잘 하세요\n"
          ]
        },
        {
          "output_type": "execute_result",
          "data": {
            "text/plain": [
              "(6, 5)"
            ]
          },
          "metadata": {},
          "execution_count": 105
        }
      ]
    },
    {
      "cell_type": "code",
      "source": [],
      "metadata": {
        "id": "TJWD1r4Y14VC"
      },
      "execution_count": null,
      "outputs": []
    }
  ]
}