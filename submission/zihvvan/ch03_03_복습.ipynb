{
  "nbformat": 4,
  "nbformat_minor": 0,
  "metadata": {
    "colab": {
      "provenance": [],
      "authorship_tag": "ABX9TyND3n0UjNS7GLY9Vy1YGazV",
      "include_colab_link": true
    },
    "kernelspec": {
      "name": "python3",
      "display_name": "Python 3"
    },
    "language_info": {
      "name": "python"
    }
  },
  "cells": [
    {
      "cell_type": "markdown",
      "metadata": {
        "id": "view-in-github",
        "colab_type": "text"
      },
      "source": [
        "<a href=\"https://colab.research.google.com/github/zihvvan/Python/blob/main/submission/zihvvan/ch03_03_%EB%B3%B5%EC%8A%B5.ipynb\" target=\"_parent\"><img src=\"https://colab.research.google.com/assets/colab-badge.svg\" alt=\"Open In Colab\"/></a>"
      ]
    },
    {
      "cell_type": "markdown",
      "source": [
        "# 예외처리"
      ],
      "metadata": {
        "id": "3fliqRsL2sRg"
      }
    },
    {
      "cell_type": "code",
      "execution_count": 12,
      "metadata": {
        "id": "4s-VdArm2orR"
      },
      "outputs": [],
      "source": [
        "class HamburgerStore:\n",
        "    def __init__(self, meat, *args):\n",
        "        self.meat = meat # 고기의 양\n",
        "        if self.meat < 0:\n",
        "            print(\"고기의 양은 음수를 입력할 수 없습니다\")\n",
        "        self.menu = args # 메뉴 가짓수\n",
        "        for m in self.menu:\n",
        "            if m[-2:] != \"버거\":\n",
        "                print(\"메뉴의 이름은 버거로 끝나야합니다\")"
      ]
    },
    {
      "cell_type": "code",
      "source": [
        "store = HamburgerStore(100, \"스펀지버거\", \"양말버거\", \"인스타감성버거\")"
      ],
      "metadata": {
        "id": "LHKnHG5z3M0t"
      },
      "execution_count": 13,
      "outputs": []
    },
    {
      "cell_type": "code",
      "source": [
        "store = HamburgerStore()"
      ],
      "metadata": {
        "colab": {
          "base_uri": "https://localhost:8080/",
          "height": 172
        },
        "id": "dsgX3nsR3Yfy",
        "outputId": "0062c5ff-2ea5-4a15-a969-272a86ca2c65"
      },
      "execution_count": 15,
      "outputs": [
        {
          "output_type": "error",
          "ename": "TypeError",
          "evalue": "ignored",
          "traceback": [
            "\u001b[0;31m---------------------------------------------------------------------------\u001b[0m",
            "\u001b[0;31mTypeError\u001b[0m                                 Traceback (most recent call last)",
            "\u001b[0;32m<ipython-input-15-3cfe956d09cd>\u001b[0m in \u001b[0;36m<module>\u001b[0;34m\u001b[0m\n\u001b[0;32m----> 1\u001b[0;31m \u001b[0mstore\u001b[0m \u001b[0;34m=\u001b[0m \u001b[0mHamburgerStore\u001b[0m\u001b[0;34m(\u001b[0m\u001b[0;34m)\u001b[0m\u001b[0;34m\u001b[0m\u001b[0;34m\u001b[0m\u001b[0m\n\u001b[0m",
            "\u001b[0;31mTypeError\u001b[0m: __init__() missing 1 required positional argument: 'meat'"
          ]
        }
      ]
    },
    {
      "cell_type": "code",
      "source": [
        "store = HamburgerStore(-1)"
      ],
      "metadata": {
        "colab": {
          "base_uri": "https://localhost:8080/"
        },
        "id": "k64wf6IG3pjP",
        "outputId": "024a665c-3642-4e34-e6b6-c511a3036e66"
      },
      "execution_count": 16,
      "outputs": [
        {
          "output_type": "stream",
          "name": "stdout",
          "text": [
            "고기의 양은 음수를 입력할 수 없습니다\n"
          ]
        }
      ]
    },
    {
      "cell_type": "code",
      "source": [
        "store = HamburgerStore(1.2345)"
      ],
      "metadata": {
        "id": "vbBey8jJ38QZ"
      },
      "execution_count": 17,
      "outputs": []
    },
    {
      "cell_type": "code",
      "source": [
        "store = HamburgerStore(100, \"맥너겟\")"
      ],
      "metadata": {
        "colab": {
          "base_uri": "https://localhost:8080/"
        },
        "id": "ABKSNm6n3_2F",
        "outputId": "362edb00-7ed8-417c-fc4a-2eae38e5bac9"
      },
      "execution_count": 18,
      "outputs": [
        {
          "output_type": "stream",
          "name": "stdout",
          "text": [
            "메뉴의 이름은 버거로 끝나야합니다\n"
          ]
        }
      ]
    },
    {
      "cell_type": "code",
      "source": [
        "store = HamburgerStore(100)"
      ],
      "metadata": {
        "id": "Zh9RuVSG4Hzl"
      },
      "execution_count": 19,
      "outputs": []
    },
    {
      "cell_type": "markdown",
      "source": [
        "# 1단계 : 기본 오류 처리하기"
      ],
      "metadata": {
        "id": "pKDt9OOy4NV1"
      }
    },
    {
      "cell_type": "code",
      "source": [
        "try:\n",
        "    store = HamburgerStore()\n",
        "except:\n",
        "    print(\"알 수 없은 오류입니다\")"
      ],
      "metadata": {
        "colab": {
          "base_uri": "https://localhost:8080/"
        },
        "id": "0q00TlAH4JX1",
        "outputId": "98d7d8d0-e6e0-4423-9015-8ac54363a4df"
      },
      "execution_count": 20,
      "outputs": [
        {
          "output_type": "stream",
          "name": "stdout",
          "text": [
            "알 수 없은 오류입니다\n"
          ]
        }
      ]
    },
    {
      "cell_type": "code",
      "source": [
        "try:\n",
        "    # store = HamburgerStore()\n",
        "    # store = HamburgerStore(\"\")\n",
        "    store = HamburgerStore(100)\n",
        "except Exception as e : # except Exception as e : e라는 이름으로 Exception 클래스로 에러를 해석해주겠다.\n",
        "    # e -> 변수로 메시지를 받을 수 있음\n",
        "    print(\"**알 수 없은 오류입니다**\")\n",
        "    print(f\"d에러 메시지 : {e}\")\n",
        "else: # 에러가 없으면 실행될 코드\n",
        "    print(\"정상적으로 가게가 생성 되었습니다\")\n",
        "    print(f\"스토어의 고기양 : {store.meat}\")\n",
        "    print(f\"스토어의 메뉴목록 : {store.menu}\")\n",
        "finally: # 에러가 있던 없던 실행될 코드\n",
        "    print(\"**생성 과정 완료**\")"
      ],
      "metadata": {
        "colab": {
          "base_uri": "https://localhost:8080/"
        },
        "id": "_8B03JVr4UsP",
        "outputId": "5eb54987-81e6-48a8-f901-934e4dd97aa4"
      },
      "execution_count": 21,
      "outputs": [
        {
          "output_type": "stream",
          "name": "stdout",
          "text": [
            "정상적으로 가게가 생성 되었습니다\n",
            "스토어의 고기양 : 100\n",
            "스토어의 메뉴목록 : ()\n",
            "**생성 과정 완료**\n"
          ]
        }
      ]
    },
    {
      "cell_type": "markdown",
      "source": [
        "# 사용자 정의 오류 만들고 분기 시키기"
      ],
      "metadata": {
        "id": "Yg39mfeq5FAG"
      }
    },
    {
      "cell_type": "code",
      "source": [
        "# 고기 오류 : 음수 입력했을 때\n",
        "# 고기 오류 : 정수가 아닌 실수를 입력했을 때\n",
        "# 고기 오류 : 문자열 입력했을 때 (type으로 잡아주기는 하는데... 메시지가 마음에 안들어)\n",
        "# 메뉴 오류 : 메뉴가 아예 비어 있음\n",
        "# 메뉴 오류 : 메뉴에 '버거'가 포함되지 않음\n",
        "\n",
        "# 사용자 에러를 만들 때\n",
        "class MeatError(Exception): # class 오류명(Exception):\n",
        "    # pass\n",
        "    def __init__(self, msg) -> None:\n",
        "        super().__init__(msg)\n",
        "class MenuError(Exception):\n",
        "    pass\n",
        "\n",
        "class HamburgerStore:\n",
        "    meat_str_error_msg = \"문자열을 입력했습니다, 정수로 다시 입력해주세요\"\n",
        "    meat_float_error_msg = \"고기 주문량은 정수가 아닌 실수를 입력할 수 없습니다\"\n",
        "    meat_negative_error_msg = \"고기 주문량은 음수를 입력할 수 없습니다\"\n",
        "\n",
        "    def __init__(self, meat, *args):\n",
        "        self.meat = meat # 고기의 양\n",
        "        self.handle_meat() # 고기를 처리하는 메소드 (하위모듈화)\n",
        "        self.menu = args # 메뉴 가짓수\n",
        "        self.handle_menu() # 메뉴를 처리하는 메소드\n",
        "    \n",
        "    def handle_meat(self):\n",
        "        if type(self.meat) == str:\n",
        "            raise MeatError(HamburgerStore.meat_str_error_msg)\n",
        "        if type(self.meat) == float and (int(self.meat) != self.meat):\n",
        "            raise MeatError(HamburgerStore.meat_float_error_msg)\n",
        "        if self.meat < 0:\n",
        "            raise MeatError(HamburgerStore.meat_negative_error_msg)\n",
        "    \n",
        "    def handle_menu(self):\n",
        "        if not self.menu:\n",
        "            raise MenuError(\"메뉴 없이 가게를 열 수 없습니다\")\n",
        "        for m in self.menu:\n",
        "            if m[-2:] != \"버거\":\n",
        "                # print(\"메뉴의 이름은 버거로 끝나야합니다\")\n",
        "                raise MenuError(\"메뉴의 이름은 버거로 끝나야합니다\")\n",
        "\n",
        "try:\n",
        "    # store = HamburgerStore()\n",
        "    # store = HamburgerStore(\"\")\n",
        "    # store = HamburgerStore(-1)\n",
        "    # store = HamburgerStore(1.0)\n",
        "    # store = HamburgerStore(1.1)\n",
        "    # store = HamburgerStore(1)\n",
        "    # store = HamburgerStore(1, \"된장찌개\")\n",
        "    store = HamburgerStore(1, \"된장찌개버거\")\n",
        "except MeatError as e: # except 사용자에러 as e : 사용자에러를 변수 e로 불러오겠음\n",
        "    print(\"**고기 관련 오류입니다**\")\n",
        "    print(f\"에러 메시지 : {e}\")\n",
        "except MenuError as e: # except 사용자에러 as e : 사용자에러를 변수 e로 불러오겠음\n",
        "    print(\"**메뉴 관련 오류입니다**\")\n",
        "    print(f\"에러 메시지 : {e}\")\n",
        "except Exception as e: # except Exception as e : e라는 이름의 Exception 클래스로 에러를 해석해주겠다.\n",
        "    # e -> 변수로 메시지를 받을 수 있음\n",
        "    print(\"**알 수 없는 오류입니다**\")\n",
        "    print(f\"에러 메시지 : {e}\")\n",
        "else: # 에러가 없으면 실행될 코드\n",
        "    print(\"<정상적으로 가게가 생성 되었습니다>\")\n",
        "    print(f\"스토어의 고기 양 : {store.meat}\")\n",
        "    print(f\"스토어의 메뉴 목록 : {store.menu}\")\n",
        "finally: # 에러가 있던 없던 실행될 코드\n",
        "    print(\"**생성 과정 완료**\")"
      ],
      "metadata": {
        "colab": {
          "base_uri": "https://localhost:8080/"
        },
        "id": "Lzyh0JmE5H_9",
        "outputId": "c753c804-0c4b-4a57-f57a-94a44e554c58"
      },
      "execution_count": 27,
      "outputs": [
        {
          "output_type": "stream",
          "name": "stdout",
          "text": [
            "<정상적으로 가게가 생성 되었습니다>\n",
            "스토어의 고기 양 : 1\n",
            "스토어의 메뉴 목록 : ('된장찌개버거',)\n",
            "**생성 과정 완료**\n"
          ]
        }
      ]
    },
    {
      "cell_type": "code",
      "source": [
        "def make_store(meat, *args):\n",
        "    try:\n",
        "        # store = HamburgerStore(1, \"된장찌개\")\n",
        "        store = HamburgerStore(meat, *args)\n",
        "    except MeatError as e: # except 사용자에러 as e : 사용자에러를 변수 e로 불러오겠음\n",
        "        print(\"**고기 관련 오류입니다**\")\n",
        "        raise e\n",
        "    except MenuError as e: # except 사용자에러 as e : 사용자에러를 변수 e로 불러오겠음\n",
        "        print(\"**메뉴 관련 오류입니다**\")\n",
        "        raise e\n",
        "    except Exception as e: # except Exception as e : e라는 이름의 Exception 클래스로 에러를 해석해주겠다.\n",
        "        # e -> 변수로 메시지를 받을 수 있음\n",
        "        print(\"**알 수 없는 오류입니다**\")\n",
        "        raise e\n",
        "    return store"
      ],
      "metadata": {
        "id": "H5fqoeQRAwFr"
      },
      "execution_count": 28,
      "outputs": []
    },
    {
      "cell_type": "code",
      "source": [
        "try:\n",
        "    store = make_store(1, \"크록스버거\")\n",
        "except Exception as e:\n",
        "    print(f\"에러 메시지 : {e}\")\n",
        "    print(\"에러가 발생했네요, 조심해주세요!\")\n",
        "    print(\"본사에 보고하겠습니다...\")\n",
        "else: # 에러가 없으면 실행될 코드\n",
        "    print(\"<정상적으로 가게가 생성 되었습니다>\")\n",
        "    print(f\"스토어의 고기 양 : {store.meat}\")\n",
        "    print(f\"스토어의 메뉴 목록 : {store.menu}\")\n",
        "finally: # 에러가 있던 없던 실행될 코드\n",
        "    print(\"**생성 과정 완료**\")"
      ],
      "metadata": {
        "colab": {
          "base_uri": "https://localhost:8080/"
        },
        "id": "HITIxPnRDDER",
        "outputId": "31ece201-3959-4c60-e214-e47cdaa2adb2"
      },
      "execution_count": 29,
      "outputs": [
        {
          "output_type": "stream",
          "name": "stdout",
          "text": [
            "<정상적으로 가게가 생성 되었습니다>\n",
            "스토어의 고기 양 : 1\n",
            "스토어의 메뉴 목록 : ('크록스버거',)\n",
            "**생성 과정 완료**\n"
          ]
        }
      ]
    }
  ]
}